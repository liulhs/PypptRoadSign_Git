{
 "cells": [
  {
   "cell_type": "code",
   "execution_count": 1,
   "metadata": {},
   "outputs": [],
   "source": [
    "from PypptRoadSign.sign import Sign\n",
    "\n",
    "test_sign = Sign(background_style='default',width=16,height=9)\n",
    "\n",
    "test_sign.background.draw()\n",
    "\n",
    "test_sign.output('output.pptx')"
   ]
  }
 ],
 "metadata": {
  "kernelspec": {
   "display_name": "EE541",
   "language": "python",
   "name": "python3"
  },
  "language_info": {
   "codemirror_mode": {
    "name": "ipython",
    "version": 3
   },
   "file_extension": ".py",
   "mimetype": "text/x-python",
   "name": "python",
   "nbconvert_exporter": "python",
   "pygments_lexer": "ipython3",
   "version": "3.9.16"
  }
 },
 "nbformat": 4,
 "nbformat_minor": 2
}
